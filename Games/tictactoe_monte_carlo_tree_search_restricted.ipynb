{
 "cells": [
  {
   "cell_type": "markdown",
   "metadata": {},
   "source": [
    "# Adversarial Search: Solving Tic-Tac-Toe with Monte Carlo Tree Search"
   ]
  },
  {
   "cell_type": "markdown",
   "metadata": {},
   "source": [
    "## Introduction \n",
    "\n",
    "Multiplayer games can be implemented as:\n",
    "1. Nondeterministic actions: The opponent is seen as part of an environment with nondeterministic actions. Non-determinism is the result of the unknown opponent's moves. \n",
    "2. Optimal Decisions: Minimax search (search complete game tree) and alpha-beta pruning.\n",
    "3. Heuristic Alpha-Beta Tree Search: Cut off tree search and use heuristic to estimate state value. \n",
    "4. __Monte Carlo Search:__ Simulate playouts to estimate state value. \n",
    "\n",
    "Here we will implement search for Tic-Tac-Toe (see [rules](https://en.wikipedia.org/wiki/Tic-tac-toe)). The game is a __zero-sum game__: Win by x results in +1, win by o in -1 and a tie has a value of 0. Max plays x and tries to maximize the outcome while Min plays o and tries to minimize the outcome.   \n",
    "\n",
    "We will implement\n",
    "* We enhance Pure Monte Carlo Search by using the upper confidence bound (UCB1) selection policy. That is, we use UCB1 to determine for which action to perform the next playout. This will allow the algorithm to focus on actions here it needs to collect more information. Note that complete Upper Confidence Bounds applied to Trees (UCT) creates a tree and the expand step in the code needs to be added. "
   ]
  },
  {
   "cell_type": "markdown",
   "metadata": {},
   "source": [
    "## The board\n",
    "\n",
    "I represent the board as a vector of length 9. The values are `' ', 'x', 'o'`.  "
   ]
  },
  {
   "cell_type": "code",
   "execution_count": 1,
   "metadata": {},
   "outputs": [],
   "source": [
    "import numpy as np\n",
    "import math"
   ]
  },
  {
   "cell_type": "code",
   "execution_count": 2,
   "metadata": {},
   "outputs": [
    {
     "data": {
      "text/plain": [
       "[' ', ' ', ' ', ' ', ' ', ' ', ' ', ' ', ' ']"
      ]
     },
     "metadata": {},
     "output_type": "display_data"
    }
   ],
   "source": [
    "def empty_board():\n",
    "    return [' '] * 9\n",
    "\n",
    "board = empty_board()\n",
    "display(board)"
   ]
  },
  {
   "cell_type": "markdown",
   "metadata": {},
   "source": [
    "Some helper functions."
   ]
  },
  {
   "cell_type": "code",
   "execution_count": 3,
   "metadata": {},
   "outputs": [
    {
     "name": "stdout",
     "output_type": "stream",
     "text": [
      "[[' ' ' ' ' ']\n",
      " [' ' ' ' ' ']\n",
      " [' ' ' ' ' ']]\n",
      "\n",
      "Add some x's\n",
      "[['x' ' ' ' ']\n",
      " ['x' ' ' ' ']\n",
      " ['x' ' ' ' ']]\n"
     ]
    }
   ],
   "source": [
    "def show_board(board):\n",
    "    \"\"\"display the board\"\"\"\n",
    "    b = np.array(board).reshape((3,3))\n",
    "    print(b)\n",
    "\n",
    "board = empty_board()\n",
    "show_board(board)    \n",
    "\n",
    "print()\n",
    "print(\"Add some x's\")\n",
    "board[0] = 'x'; board[3] = 'x'; board[6] = 'x';  \n",
    "show_board(board)"
   ]
  },
  {
   "cell_type": "code",
   "execution_count": 4,
   "metadata": {},
   "outputs": [
    {
     "name": "stdout",
     "output_type": "stream",
     "text": [
      "[['x' ' ' ' ']\n",
      " ['x' ' ' ' ']\n",
      " ['x' ' ' ' ']]\n",
      "Win? x\n",
      "\n",
      "[[' ' ' ' ' ']\n",
      " [' ' ' ' ' ']\n",
      " [' ' ' ' ' ']]\n",
      "Win? n\n"
     ]
    }
   ],
   "source": [
    "def check_win(board):\n",
    "    \"\"\"check the board and return one of x, o, d (draw), or n (for next move)\"\"\"\n",
    "    \n",
    "    board = np.array(board).reshape((3,3))\n",
    "    \n",
    "    diagonals = np.array([[board[i][i] for i in range(len(board))], \n",
    "                          [board[i][len(board)-i-1] for i in range(len(board))]])\n",
    "    \n",
    "    for a_board in [board, np.transpose(board), diagonals]:\n",
    "        for row in a_board:\n",
    "            if len(set(row)) == 1 and row[0] != ' ':\n",
    "                return row[0]\n",
    "    \n",
    "    # check for draw\n",
    "    if(np.sum(board == ' ') < 1):\n",
    "        return 'd'\n",
    "    \n",
    "    return 'n'\n",
    "\n",
    "show_board(board)\n",
    "print('Win? ' + check_win(board))\n",
    "\n",
    "print()\n",
    "show_board(empty_board())\n",
    "print('Win? ' + check_win(empty_board()))"
   ]
  },
  {
   "cell_type": "code",
   "execution_count": 5,
   "metadata": {},
   "outputs": [
    {
     "name": "stdout",
     "output_type": "stream",
     "text": [
      "[['x' ' ' ' ']\n",
      " ['x' ' ' ' ']\n",
      " ['x' ' ' ' ']]\n"
     ]
    },
    {
     "data": {
      "text/plain": [
       "[1, 2, 4, 5, 7, 8]"
      ]
     },
     "execution_count": 5,
     "metadata": {},
     "output_type": "execute_result"
    }
   ],
   "source": [
    "def get_actions(board):\n",
    "    \"\"\"return possible actions as a vector ot indices\"\"\"\n",
    "    return np.where(np.array(board) == ' ')[0].tolist()\n",
    "\n",
    "    # randomize the action order\n",
    "    #actions = np.where(np.array(board) == ' ')[0]\n",
    "    #np.random.shuffle(actions)\n",
    "    #return actions.tolist()\n",
    "\n",
    "\n",
    "show_board(board)\n",
    "get_actions(board)"
   ]
  },
  {
   "cell_type": "code",
   "execution_count": 6,
   "metadata": {},
   "outputs": [
    {
     "name": "stdout",
     "output_type": "stream",
     "text": [
      "[[' ' ' ' ' ']\n",
      " [' ' ' ' ' ']\n",
      " [' ' ' ' ' ']]\n",
      "\n",
      "State for placing an x at position 4:\n",
      "[[' ' ' ' ' ']\n",
      " [' ' 'x' ' ']\n",
      " [' ' ' ' ' ']]\n"
     ]
    }
   ],
   "source": [
    "def result(state, player, action):\n",
    "    \"\"\"Add move to the board.\"\"\"\n",
    "    \n",
    "    state = state.copy()\n",
    "    state[action] = player\n",
    "  \n",
    "    return state\n",
    "\n",
    "show_board(empty_board())\n",
    "\n",
    "print()\n",
    "print(\"State for placing an x at position 4:\")\n",
    "show_board(result(empty_board(), 'x', 4))"
   ]
  },
  {
   "cell_type": "code",
   "execution_count": 7,
   "metadata": {},
   "outputs": [],
   "source": [
    "def other(player): \n",
    "    if player == 'x': return 'o'\n",
    "    else: return 'x'"
   ]
  },
  {
   "cell_type": "code",
   "execution_count": 8,
   "metadata": {},
   "outputs": [
    {
     "name": "stdout",
     "output_type": "stream",
     "text": [
      "1\n",
      "-1\n",
      "None\n"
     ]
    }
   ],
   "source": [
    "def utility(state, player = 'x'):\n",
    "    \"\"\"check is a state is terminal and return the utility if it is. None means not a terminal mode.\"\"\"\n",
    "    goal = check_win(state)        \n",
    "    if goal == player: return +1 \n",
    "    if goal == 'd': return 0  \n",
    "    if goal == other(player): return -1  # loss is failure\n",
    "    return None # continue\n",
    "\n",
    "print(utility(['x'] * 9))\n",
    "print(utility(['o'] * 9))\n",
    "print(utility(empty_board()))"
   ]
  },
  {
   "cell_type": "markdown",
   "metadata": {},
   "source": [
    "# Monte Carlo Search with Upper Confidence Bound\n",
    "\n",
    "See AIMA page 163. \n",
    "\n",
    "We enhance pure Monte Carlo Search by using UCB1 as a __selection policy__. This can be seen as a \n",
    "restricted version of UTC: \n",
    "* Only build a tree of depth 1 and use the UBC1 selection policy.\n",
    "* Use a random playout policy.\n",
    "\n",
    "\n",
    "__Note on the playout policy:__ We use here a random playout policy, which ends up creating just a randomized search that works fine for this toy problem. For real applications you need to extend the code with a good __playout policy__ (e.g., manually created heuristics or a neural [network learned by self-play using reinforcement learning](https://towardsdatascience.com/how-to-teach-an-ai-to-play-games-deep-reinforcement-learning-28f9b920440a))."
   ]
  },
  {
   "cell_type": "markdown",
   "metadata": {},
   "source": [
    "## Simulate playouts"
   ]
  },
  {
   "cell_type": "code",
   "execution_count": 9,
   "metadata": {},
   "outputs": [
    {
     "name": "stdout",
     "output_type": "stream",
     "text": [
      "0\n",
      "-1\n",
      "1\n"
     ]
    }
   ],
   "source": [
    "def playout(state, action, player = 'x'):\n",
    "    \"\"\"Perfrom a random playout starting with the given action on the fiven board \n",
    "    and return the utility of the finished game.\"\"\"\n",
    "    state = result(state, player, action)\n",
    "    current_player = other(player)\n",
    "    \n",
    "    while(True):\n",
    "        # reached terminal state?\n",
    "        u = utility(state, player)\n",
    "        if u is not None: \n",
    "            return u\n",
    "        \n",
    "        # we use a random playout policy\n",
    "        a = np.random.choice(get_actions(state))\n",
    "        state = result(state, current_player, a)\n",
    "        #print(state)\n",
    "        \n",
    "        # switch between players\n",
    "        current_player = other(current_player)\n",
    "\n",
    "\n",
    "board = empty_board()\n",
    "print(playout(board, 0))\n",
    "print(playout(board, 0))\n",
    "print(playout(board, 0))"
   ]
  },
  {
   "cell_type": "markdown",
   "metadata": {},
   "source": [
    "## Upper Confidence Bound Applied to Trees (Restricted to Depth 1)"
   ]
  },
  {
   "cell_type": "code",
   "execution_count": 10,
   "metadata": {},
   "outputs": [],
   "source": [
    "import pandas as pd\n",
    "\n",
    "DEBUG = 1\n",
    "\n",
    "def UCT_depth1(board, N = 100, player = 'x'):\n",
    "    \"\"\"Upper Confidence bound applied to Trees for limited tree depth of 1. \n",
    "    Simulation budget is N playouts.\"\"\"\n",
    "    global DEBUG\n",
    "    \n",
    "    C = math.sqrt(2)\n",
    "    \n",
    "    # the tree is 1 action deep\n",
    "    actions = get_actions(board)\n",
    "    \n",
    "    u = [0] * len(actions) # total utility through actions\n",
    "    n = [0] * len(actions) # number of playouts through actions\n",
    "    n_parent = 0 # total playouts so far (i.e., number of playouts through parent)\n",
    "    \n",
    "    UCB1 = [+math.inf] * len(actions) \n",
    "    \n",
    "    for i in range(N):\n",
    "\n",
    "        # Select\n",
    "        action_id = UCB1.index(max(UCB1))\n",
    "    \n",
    "        # Expand\n",
    "        # UTC would expand the tree. We keep the tree at depth 1, essentially performing\n",
    "        # Pure Monte Carlo search with an added UCB1 selection policy. \n",
    "        \n",
    "        # Simulate\n",
    "        p = playout(board, actions[action_id], player = player)\n",
    "    \n",
    "        # Back-Propagate (i.e., update counts and UCB1)\n",
    "        u[action_id] += p\n",
    "        n[action_id] += 1\n",
    "        n_parent += 1\n",
    "        \n",
    "        for action_id in range(len(actions)):\n",
    "            if n[action_id] > 0:\n",
    "                UCB1[action_id] = u[action_id]/n[action_id] + C * math.sqrt(math.log(n_parent)/n[action_id])\n",
    "    \n",
    "    # return action with largest number of playouts \n",
    "    action = actions[n.index(max(n))]\n",
    "    \n",
    "    if DEBUG >= 1: \n",
    "        print(pd.DataFrame({'action':actions, \n",
    "                            'total utility':u, \n",
    "                            '# of playouts':n, \n",
    "                            'UCB1':UCB1}))\n",
    "        print()\n",
    "        print(f\"Best action: {action}\")\n",
    "    \n",
    "    \n",
    "    return action"
   ]
  },
  {
   "cell_type": "code",
   "execution_count": 11,
   "metadata": {},
   "outputs": [
    {
     "data": {
      "text/plain": [
       "[' ', ' ', ' ', ' ', ' ', ' ', ' ', ' ', ' ']"
      ]
     },
     "metadata": {},
     "output_type": "display_data"
    },
    {
     "name": "stdout",
     "output_type": "stream",
     "text": [
      "   action  total utility  # of playouts      UCB1\n",
      "0       0             14             62  0.697856\n",
      "1       1             21             77  0.696310\n",
      "2       2             51            135  0.697680\n",
      "3       3              0             29  0.690215\n",
      "4       4            234            446  0.700665\n",
      "5       5              0             30  0.678614\n",
      "6       6             44            122  0.697170\n",
      "7       7             -2             25  0.663384\n",
      "8       8             19             74  0.688840\n",
      "\n",
      "Best action: 4\n",
      "639 ms ± 0 ns per loop (mean ± std. dev. of 1 run, 1 loop each)\n"
     ]
    }
   ],
   "source": [
    "board = empty_board()\n",
    "display(board)\n",
    "\n",
    "%timeit -n 1 -r 1 UCT_depth1(board, N = 1000)"
   ]
  },
  {
   "cell_type": "markdown",
   "metadata": {},
   "source": [
    "## Some Tests"
   ]
  },
  {
   "cell_type": "code",
   "execution_count": 12,
   "metadata": {
    "scrolled": false
   },
   "outputs": [
    {
     "name": "stdout",
     "output_type": "stream",
     "text": [
      "Board:\n",
      "[['x' 'o' ' ']\n",
      " ['o' 'x' ' ']\n",
      " [' ' ' ' ' ']]\n",
      "\n",
      "   action  total utility  # of playouts      UCB1\n",
      "0       2             17             21  1.471783\n",
      "1       5              7             12  1.459420\n",
      "2       6             11             16  1.446214\n",
      "3       7              9             14  1.453956\n",
      "4       8             37             37  1.498927\n",
      "\n",
      "Best action: 8\n",
      "29.2 ms ± 0 ns per loop (mean ± std. dev. of 1 run, 1 loop each)\n"
     ]
    }
   ],
   "source": [
    "# x is about to win (play 8)\n",
    "\n",
    "board = empty_board() \n",
    "board[0] = 'x'\n",
    "board[1] = 'o'\n",
    "board[3] = 'o'\n",
    "board[4] = 'x'\n",
    "\n",
    "print(\"Board:\")\n",
    "show_board(board)\n",
    "\n",
    "print()\n",
    "%timeit -n1 -r1 UCT_depth1(board)"
   ]
  },
  {
   "cell_type": "code",
   "execution_count": 13,
   "metadata": {},
   "outputs": [
    {
     "name": "stdout",
     "output_type": "stream",
     "text": [
      "Board:\n",
      "[['o' 'o' ' ']\n",
      " ['o' 'x' ' ']\n",
      " [' ' ' ' 'x']]\n",
      "\n",
      "   action  total utility  # of playouts      UCB1\n",
      "0       2            -21            611  0.116001\n",
      "1       5            -15             21  0.096813\n",
      "2       6            -29            353  0.115679\n",
      "3       7            -13             15  0.093039\n",
      "\n",
      "Best action: 2\n",
      "221 ms ± 0 ns per loop (mean ± std. dev. of 1 run, 1 loop each)\n"
     ]
    }
   ],
   "source": [
    "# o is about to win\n",
    "\n",
    "board = empty_board() \n",
    "board[0] = 'o'\n",
    "board[1] = 'o'\n",
    "board[3] = 'o'\n",
    "board[4] = 'x'\n",
    "board[8] = 'x'\n",
    "\n",
    "print(\"Board:\")\n",
    "show_board(board)\n",
    "\n",
    "print()\n",
    "%timeit -n1 -r1 UCT_depth1(board, N = 1000)"
   ]
  },
  {
   "cell_type": "code",
   "execution_count": 14,
   "metadata": {},
   "outputs": [
    {
     "name": "stdout",
     "output_type": "stream",
     "text": [
      "Board:\n",
      "[['x' 'o' 'x']\n",
      " [' ' 'o' ' ']\n",
      " [' ' ' ' ' ']]\n",
      "\n",
      "   action  total utility  # of playouts      UCB1\n",
      "0       3            -13             60  0.263186\n",
      "1       5            -13             62  0.262372\n",
      "2       6            -12             24  0.258714\n",
      "3       7            118            800  0.278913\n",
      "4       8            -13             54  0.265068\n",
      "\n",
      "Best action: 7\n",
      "382 ms ± 0 ns per loop (mean ± std. dev. of 1 run, 1 loop each)\n"
     ]
    }
   ],
   "source": [
    "#### x can draw if it chooses 7.\n",
    "\n",
    "board = empty_board() \n",
    "board[0] = 'x'\n",
    "board[1] = 'o'\n",
    "board[2] = 'x'\n",
    "board[4] = 'o'\n",
    "\n",
    "print(\"Board:\")\n",
    "show_board(board)\n",
    "\n",
    "print()\n",
    "%timeit -n1 -r1 UCT_depth1(board, N = 1000)"
   ]
  },
  {
   "cell_type": "code",
   "execution_count": 15,
   "metadata": {
    "scrolled": false
   },
   "outputs": [
    {
     "name": "stdout",
     "output_type": "stream",
     "text": [
      "Board:\n",
      "[[' ' ' ' ' ']\n",
      " [' ' 'o' ' ']\n",
      " [' ' ' ' ' ']]\n",
      "\n",
      "   action  total utility  # of playouts      UCB1\n",
      "0       0             -5             15  0.450263\n",
      "1       1             -5             17  0.441943\n",
      "2       2             -5             15  0.450263\n",
      "3       3             -5             17  0.441943\n",
      "4       5             -6             10  0.359705\n",
      "5       6             -5              5  0.357228\n",
      "6       7             -6             15  0.383596\n",
      "7       8             -5              6  0.405641\n",
      "\n",
      "Best action: 1\n",
      "66 ms ± 0 ns per loop (mean ± std. dev. of 1 run, 1 loop each)\n"
     ]
    }
   ],
   "source": [
    "# o went first\n",
    "\n",
    "board = empty_board() \n",
    "board[4] = 'o'\n",
    "\n",
    "print(\"Board:\")\n",
    "show_board(board)\n",
    "\n",
    "\n",
    "print()\n",
    "%timeit -n1 -r1 UCT_depth1(board)"
   ]
  },
  {
   "cell_type": "code",
   "execution_count": 16,
   "metadata": {
    "scrolled": true
   },
   "outputs": [
    {
     "name": "stdout",
     "output_type": "stream",
     "text": [
      "Board:\n",
      "[[' ' ' ' ' ']\n",
      " [' ' ' ' ' ']\n",
      " [' ' ' ' ' ']]\n",
      "\n",
      "   action  total utility  # of playouts      UCB1\n",
      "0       0              7             15  1.250263\n",
      "1       1              1              8  1.197983\n",
      "2       2              3             10  1.259705\n",
      "3       3              6             13  1.303256\n",
      "4       4              6             15  1.183596\n",
      "5       5              1              8  1.197983\n",
      "6       6             11             19  1.275191\n",
      "7       7             -2              2  1.145966\n",
      "8       8              3             10  1.259705\n",
      "\n",
      "Best action: 6\n",
      "75.8 ms ± 0 ns per loop (mean ± std. dev. of 1 run, 1 loop each)\n",
      "   action  total utility  # of playouts      UCB1\n",
      "0       0            126            371  0.553900\n",
      "1       1             45            181  0.555397\n",
      "2       2            189            510  0.553347\n",
      "3       3              7             80  0.548943\n",
      "4       4           1286           2674  0.560742\n",
      "5       5             27            135  0.555219\n",
      "6       6             70            242  0.554567\n",
      "7       7             11             94  0.542717\n",
      "8       8            285            713  0.554287\n",
      "\n",
      "Best action: 4\n",
      "3.05 s ± 0 ns per loop (mean ± std. dev. of 1 run, 1 loop each)\n"
     ]
    }
   ],
   "source": [
    "# Empty board: Only a draw an be guaranteed\n",
    "\n",
    "board = empty_board() \n",
    "\n",
    "print(\"Board:\")\n",
    "show_board(board)\n",
    "\n",
    "\n",
    "print()\n",
    "%timeit -n1 -r1 UCT_depth1(board, N = 100)\n",
    "%timeit -n1 -r1 UCT_depth1(board, N = 5000)"
   ]
  },
  {
   "cell_type": "code",
   "execution_count": 17,
   "metadata": {
    "scrolled": false
   },
   "outputs": [
    {
     "name": "stdout",
     "output_type": "stream",
     "text": [
      "Board:\n",
      "[['o' ' ' 'x']\n",
      " [' ' ' ' ' ']\n",
      " [' ' ' ' 'o']]\n",
      "\n",
      "   action  total utility  # of playouts      UCB1\n",
      "0       1             -3              3  0.752174\n",
      "1       3             -3              6  0.738974\n",
      "2       4             29             66  0.812959\n",
      "3       5             -3              7  0.718496\n",
      "4       6             -1             15  0.716929\n",
      "5       7             -3              3  0.752174\n",
      "\n",
      "Best action: 4\n"
     ]
    },
    {
     "data": {
      "text/plain": [
       "4"
      ]
     },
     "metadata": {},
     "output_type": "display_data"
    }
   ],
   "source": [
    "# A bad situation\n",
    "\n",
    "board = empty_board() \n",
    "board[0] = 'o'\n",
    "board[2] = 'x'\n",
    "board[8] = 'o'\n",
    "\n",
    "print(\"Board:\")\n",
    "show_board(board)\n",
    "\n",
    "\n",
    "print()\n",
    "display(UCT_depth1(board))"
   ]
  },
  {
   "cell_type": "markdown",
   "metadata": {},
   "source": [
    "__Note:__ It looks like random player o is very unlikely to block x and take advantage of the trap by playing the bottom left corner!"
   ]
  },
  {
   "cell_type": "markdown",
   "metadata": {},
   "source": [
    "## Experiments\n",
    "\n",
    "\n",
    "### Baseline: Randomized Player\n",
    "\n",
    "A completely randomized player agent should be a weak baseline."
   ]
  },
  {
   "cell_type": "code",
   "execution_count": 18,
   "metadata": {},
   "outputs": [
    {
     "name": "stdout",
     "output_type": "stream",
     "text": [
      "[['o' ' ' 'x']\n",
      " [' ' ' ' ' ']\n",
      " [' ' ' ' 'o']]\n"
     ]
    },
    {
     "data": {
      "text/plain": [
       "5"
      ]
     },
     "execution_count": 18,
     "metadata": {},
     "output_type": "execute_result"
    }
   ],
   "source": [
    "def random_player(board, player = None):\n",
    "    \"\"\"Simple player that chooses a random empy square. player is unused\"\"\"\n",
    "    return np.random.choice(get_actions(board))\n",
    "\n",
    "show_board(board)\n",
    "random_player(board)"
   ]
  },
  {
   "cell_type": "markdown",
   "metadata": {},
   "source": [
    "### The Environment\n",
    "\n",
    "Implement the environment that calls the agent. The percept is the board and the action is move."
   ]
  },
  {
   "cell_type": "code",
   "execution_count": 19,
   "metadata": {},
   "outputs": [],
   "source": [
    "DEBUG = 1\n",
    "\n",
    "def switch_player(player, x, o):\n",
    "    if player == 'x':\n",
    "        return 'o', o\n",
    "    else:\n",
    "        return 'x', x\n",
    "\n",
    "def play(x, o, N = 100):\n",
    "    results = {'x': 0, 'o': 0, 'd': 0}\n",
    "    for i in range(N):\n",
    "        board = empty_board()\n",
    "        player, fun = 'x', x\n",
    "        \n",
    "        while True:\n",
    "            a = fun(board, player)\n",
    "            board = result(board, player, a)\n",
    "            \n",
    "            win = check_win(board)\n",
    "            if win != 'n':\n",
    "                if DEBUG >= 1: print(f\"{board} winner: {win}\")\n",
    "                results[win] += 1\n",
    "                break\n",
    "            \n",
    "            player, fun = switch_player(player, x, o)   \n",
    " \n",
    "    return results"
   ]
  },
  {
   "cell_type": "markdown",
   "metadata": {},
   "source": [
    "### Random vs. Random"
   ]
  },
  {
   "cell_type": "code",
   "execution_count": 20,
   "metadata": {},
   "outputs": [
    {
     "data": {
      "text/plain": [
       "{'x': 57, 'o': 31, 'd': 12}"
      ]
     },
     "metadata": {},
     "output_type": "display_data"
    },
    {
     "name": "stdout",
     "output_type": "stream",
     "text": [
      "83.1 ms ± 0 ns per loop (mean ± std. dev. of 1 run, 1 loop each)\n"
     ]
    }
   ],
   "source": [
    "DEBUG = 0\n",
    "\n",
    "%timeit -n 1 -r 1 display(play(random_player, random_player))"
   ]
  },
  {
   "cell_type": "markdown",
   "metadata": {},
   "source": [
    "### Pure Monte Carlo Search vs. Random"
   ]
  },
  {
   "cell_type": "code",
   "execution_count": 28,
   "metadata": {
    "scrolled": false
   },
   "outputs": [
    {
     "name": "stdout",
     "output_type": "stream",
     "text": [
      "UCB1 (10) vs. random:\n",
      "   action  total utility  # of playouts      UCB1\n",
      "0       0              0              1  2.145966\n",
      "1       1             -1              1  1.145966\n",
      "2       2             -1              1  1.145966\n",
      "3       3             -1              1  1.145966\n",
      "4       4              2              2  2.517427\n",
      "5       5             -1              1  1.145966\n",
      "6       6              1              1  3.145966\n",
      "7       7              1              1  3.145966\n",
      "8       8             -1              1  1.145966\n",
      "\n",
      "Best action: 4\n",
      "   action  total utility  # of playouts      UCB1\n",
      "0       0              0              2  1.517427\n",
      "1       1             -1              1  1.145966\n",
      "2       3              0              2  1.517427\n",
      "3       5              2              2  2.517427\n",
      "4       6              1              1  3.145966\n",
      "5       7              1              1  3.145966\n",
      "6       8             -1              1  1.145966\n",
      "\n",
      "Best action: 0\n",
      "   action  total utility  # of playouts      UCB1\n",
      "0       3              3              3  2.238974\n",
      "1       5              0              1  2.145966\n",
      "2       6              2              2  2.517427\n",
      "3       7              2              2  2.517427\n",
      "4       8              2              2  2.517427\n",
      "\n",
      "Best action: 3\n",
      "   action  total utility  # of playouts      UCB1\n",
      "0       5              4              4  2.072983\n",
      "1       7              3              3  2.238974\n",
      "2       8              3              3  2.238974\n",
      "\n",
      "Best action: 5\n",
      "['x', 'o', 'o', 'x', 'x', 'x', 'o', ' ', ' '] winner: x\n"
     ]
    },
    {
     "data": {
      "text/plain": [
       "{'x': 1, 'o': 0, 'd': 0}"
      ]
     },
     "metadata": {},
     "output_type": "display_data"
    }
   ],
   "source": [
    "def ucb1_10_player(board, player = 'x'):\n",
    "    action = UCT_depth1(board, N = 10, player = player)\n",
    "    return action\n",
    "\n",
    "def ucb1_100_player(board, player = 'x'):\n",
    "    action = UCT_depth1(board, N = 100, player = player)\n",
    "    return action\n",
    "\n",
    "\n",
    "\n",
    "DEBUG = 1\n",
    "print(\"UCB1 (10) vs. random:\")\n",
    "display(play(ucb1_10_player, random_player, N = 1))"
   ]
  },
  {
   "cell_type": "code",
   "execution_count": 29,
   "metadata": {},
   "outputs": [
    {
     "name": "stdout",
     "output_type": "stream",
     "text": [
      "UCB1 (10) vs. random:\n"
     ]
    },
    {
     "data": {
      "text/plain": [
       "{'x': 90, 'o': 4, 'd': 6}"
      ]
     },
     "metadata": {},
     "output_type": "display_data"
    },
    {
     "name": "stdout",
     "output_type": "stream",
     "text": [
      "1.47 s ± 0 ns per loop (mean ± std. dev. of 1 run, 1 loop each)\n",
      "\n",
      "random vs. UCB1 (10):\n"
     ]
    },
    {
     "data": {
      "text/plain": [
       "{'x': 26, 'o': 64, 'd': 10}"
      ]
     },
     "metadata": {},
     "output_type": "display_data"
    },
    {
     "name": "stdout",
     "output_type": "stream",
     "text": [
      "1.13 s ± 0 ns per loop (mean ± std. dev. of 1 run, 1 loop each)\n"
     ]
    }
   ],
   "source": [
    "DEBUG = 0\n",
    "print(\"UCB1 (10) vs. random:\")\n",
    "%timeit -n1 -r1 display(play(ucb1_10_player, random_player))\n",
    "\n",
    "print()\n",
    "print(\"random vs. UCB1 (10):\")\n",
    "%timeit -n1 -r1 display(play(random_player, ucb1_10_player))"
   ]
  },
  {
   "cell_type": "code",
   "execution_count": 30,
   "metadata": {},
   "outputs": [
    {
     "name": "stdout",
     "output_type": "stream",
     "text": [
      "UCB1 (100) vs. random:\n"
     ]
    },
    {
     "data": {
      "text/plain": [
       "{'x': 97, 'o': 0, 'd': 3}"
      ]
     },
     "metadata": {},
     "output_type": "display_data"
    },
    {
     "name": "stdout",
     "output_type": "stream",
     "text": [
      "12.9 s ± 0 ns per loop (mean ± std. dev. of 1 run, 1 loop each)\n",
      "\n",
      "random vs. UCB1 (100):\n"
     ]
    },
    {
     "data": {
      "text/plain": [
       "{'x': 8, 'o': 84, 'd': 8}"
      ]
     },
     "metadata": {},
     "output_type": "display_data"
    },
    {
     "name": "stdout",
     "output_type": "stream",
     "text": [
      "10.5 s ± 0 ns per loop (mean ± std. dev. of 1 run, 1 loop each)\n"
     ]
    }
   ],
   "source": [
    "DEBUG = 0\n",
    "print(\"UCB1 (100) vs. random:\")\n",
    "%timeit -n 1 -r 1 display(play(ucb1_100_player, random_player))\n",
    "\n",
    "print()\n",
    "print(\"random vs. UCB1 (100):\")\n",
    "%timeit -n 1 -r 1 display(play(random_player, ucb1_100_player))"
   ]
  },
  {
   "cell_type": "code",
   "execution_count": 31,
   "metadata": {
    "scrolled": true
   },
   "outputs": [
    {
     "name": "stdout",
     "output_type": "stream",
     "text": [
      "UCB1 (100) vs. UCT (10):\n"
     ]
    },
    {
     "data": {
      "text/plain": [
       "{'x': 88, 'o': 1, 'd': 11}"
      ]
     },
     "metadata": {},
     "output_type": "display_data"
    },
    {
     "name": "stdout",
     "output_type": "stream",
     "text": [
      "14.2 s ± 0 ns per loop (mean ± std. dev. of 1 run, 1 loop each)\n",
      "\n",
      "UCT (10) vs. UCB1 (100):\n"
     ]
    },
    {
     "data": {
      "text/plain": [
       "{'x': 28, 'o': 54, 'd': 18}"
      ]
     },
     "metadata": {},
     "output_type": "display_data"
    },
    {
     "name": "stdout",
     "output_type": "stream",
     "text": [
      "11.8 s ± 0 ns per loop (mean ± std. dev. of 1 run, 1 loop each)\n"
     ]
    }
   ],
   "source": [
    "DEBUG = 0\n",
    "print(\"UCB1 (100) vs. UCT (10):\")\n",
    "%timeit -n 1 -r 1 display(play(ucb1_100_player, ucb1_10_player))\n",
    "\n",
    "print()\n",
    "print(\"UCT (10) vs. UCB1 (100):\")\n",
    "%timeit -n 1 -r 1 display(play(ucb1_10_player, ucb1_100_player))"
   ]
  }
 ],
 "metadata": {
  "kernelspec": {
   "display_name": "Python 3",
   "language": "python",
   "name": "python3"
  },
  "language_info": {
   "codemirror_mode": {
    "name": "ipython",
    "version": 3
   },
   "file_extension": ".py",
   "mimetype": "text/x-python",
   "name": "python",
   "nbconvert_exporter": "python",
   "pygments_lexer": "ipython3",
   "version": "3.8.5"
  }
 },
 "nbformat": 4,
 "nbformat_minor": 4
}
